{
 "cells": [
  {
   "cell_type": "markdown",
   "id": "d51355a7",
   "metadata": {},
   "source": [
    "#### Calculator "
   ]
  },
  {
   "cell_type": "markdown",
   "id": "cf3bbdeb",
   "metadata": {},
   "source": [
    "# summation"
   ]
  },
  {
   "cell_type": "code",
   "execution_count": null,
   "id": "710386f5",
   "metadata": {},
   "outputs": [],
   "source": [
    "#write code"
   ]
  },
  {
   "cell_type": "markdown",
   "id": "84405164",
   "metadata": {},
   "source": [
    "## subrtactio"
   ]
  },
  {
   "cell_type": "code",
   "execution_count": null,
   "id": "19b4a439",
   "metadata": {},
   "outputs": [],
   "source": [
    "# write code"
   ]
  }
 ],
 "metadata": {
  "kernelspec": {
   "display_name": "base",
   "language": "python",
   "name": "python3"
  },
  "language_info": {
   "name": "python",
   "version": "3.13.7"
  }
 },
 "nbformat": 4,
 "nbformat_minor": 5
}
