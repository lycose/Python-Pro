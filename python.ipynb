{
 "cells": [
  {
   "cell_type": "markdown",
   "id": "d51355a7",
   "metadata": {},
   "source": [
    "#### Calculator "
   ]
  },
  {
   "cell_type": "markdown",
   "id": "cf3bbdeb",
   "metadata": {},
   "source": [
    "# summation"
   ]
  },
  {
   "cell_type": "code",
   "execution_count": null,
   "id": "710386f5",
   "metadata": {},
   "outputs": [],
   "source": [
    "#write code"
   ]
  },
  {
   "cell_type": "markdown",
   "id": "84405164",
   "metadata": {},
   "source": [
    "## subrtactio"
   ]
  },
  {
   "cell_type": "code",
   "execution_count": 1,
   "id": "19b4a439",
   "metadata": {},
   "outputs": [],
   "source": [
    "# write code\n",
    "def subb(a,b):\n",
    "    return(a-b)"
   ]
  }
 ],
 "metadata": {
  "kernelspec": {
   "display_name": "base",
   "language": "python",
   "name": "python3"
  },
  "language_info": {
   "codemirror_mode": {
    "name": "ipython",
    "version": 3
   },
   "file_extension": ".py",
   "mimetype": "text/x-python",
   "name": "python",
   "nbconvert_exporter": "python",
   "pygments_lexer": "ipython3",
   "version": "3.13.7"
  }
 },
 "nbformat": 4,
 "nbformat_minor": 5
}
